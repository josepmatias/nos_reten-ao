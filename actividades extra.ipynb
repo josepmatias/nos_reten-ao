{
  "nbformat": 4,
  "nbformat_minor": 0,
  "metadata": {
    "colab": {
      "provenance": [],
      "authorship_tag": "ABX9TyPsqefqrbk0fS03/G6pBVzL",
      "include_colab_link": true
    },
    "kernelspec": {
      "name": "python3",
      "display_name": "Python 3"
    },
    "language_info": {
      "name": "python"
    }
  },
  "cells": [
    {
      "cell_type": "markdown",
      "metadata": {
        "id": "view-in-github",
        "colab_type": "text"
      },
      "source": [
        "<a href=\"https://colab.research.google.com/github/josepmatias/nos_reten-ao/blob/main/actividades%20extra.ipynb\" target=\"_parent\"><img src=\"https://colab.research.google.com/assets/colab-badge.svg\" alt=\"Open In Colab\"/></a>"
      ]
    },
    {
      "cell_type": "code",
      "execution_count": null,
      "metadata": {
        "id": "LfPZI48r8x5E"
      },
      "outputs": [],
      "source": [
        "import pandas as pd\n",
        "import numpy as np\n",
        "from datetime import datetime"
      ]
    },
    {
      "cell_type": "code",
      "source": [
        "!pip install pyxlsb"
      ],
      "metadata": {
        "id": "H0_oyjKb9Dtd"
      },
      "execution_count": null,
      "outputs": []
    },
    {
      "cell_type": "code",
      "source": [
        "#designar nomes de ficheiros\n",
        "template_acordos_pagamento=\"042024_TEMPLATE_ACORDOS_PAGAMENTO_v3.xlsx\"\n",
        "template_pagamento=\"042024_TEMPLATE_PAGAMENTO.xlsx\"\n",
        "\n",
        "erro_template_acordos_pagamento=\"Erro_acordos_pagamento.xlsx\""
      ],
      "metadata": {
        "id": "55OvL2Hp9FTB"
      },
      "execution_count": null,
      "outputs": []
    },
    {
      "cell_type": "code",
      "source": [
        "#upload dos ficheiros \"template acordos pagamento\" e \"template pagamento\"\n",
        "from google.colab import files\n",
        "uploaded = files.upload()\n",
        "uploaded2=files.upload()\n"
      ],
      "metadata": {
        "id": "GV2QbIvY80CD"
      },
      "execution_count": null,
      "outputs": []
    },
    {
      "cell_type": "code",
      "source": [
        "#ler a primeira folha (original) do \"templaye_acordos_pagamento\"\n",
        "\n",
        "acordos_pagamento=pd.read_excel(template_acordos_pagamento, sheet_name=0)"
      ],
      "metadata": {
        "id": "WJePF5dL-OzM"
      },
      "execution_count": null,
      "outputs": []
    },
    {
      "cell_type": "code",
      "source": [
        "#visualização da dataframe \"acordos_pagamento\"\n",
        "acordos_pagamento.head()"
      ],
      "metadata": {
        "id": "lHC3iXQg-jaj"
      },
      "execution_count": null,
      "outputs": []
    },
    {
      "cell_type": "code",
      "source": [
        "#formatar a coluna \"Payment Agreement Date\" para retirar a hora\n",
        "\n",
        "acordos_pagamento[\"Payment Agreement Date\"]=acordos_pagamento.iloc[:, -1].apply(lambda i: i.split(\" \")[0])\n",
        "\n",
        "acordos_pagamento.head()"
      ],
      "metadata": {
        "id": "DELbhsY_-4ci"
      },
      "execution_count": null,
      "outputs": []
    },
    {
      "cell_type": "code",
      "source": [
        "#eliminar duplicados\n",
        "\n",
        "acordos_pagamento2=acordos_pagamento.copy()\n",
        "\n",
        "print(acordos_pagamento2.shape)\n",
        "\n",
        "acordos_pagamento2.drop_duplicates(ignore_index=True, inplace=True)\n",
        "\n",
        "print(acordos_pagamento2.shape)\n",
        "\n",
        "acordos_pagamento2.head()"
      ],
      "metadata": {
        "id": "VjIoUOJA_2uU"
      },
      "execution_count": null,
      "outputs": []
    },
    {
      "cell_type": "code",
      "source": [
        "#filtrar acordos de pagamento por \"em curso\" (na coluna status) e substituir \"em curso\" por \"aprovado\"\n",
        "\n",
        "acordos_aprovado=acordos_pagamento2[acordos_pagamento2[\"Status\"].str.contains(\"em curso\", case=False)]\n",
        "\n",
        "acordos_aprovado.loc[acordos_aprovado[\"Status\"].str.contains(\"em curso\", case=False), \"Status 2\"]=\"Aprovado\"\n",
        "\n",
        "acordos_aprovado.drop(\"Status\", axis=1, inplace=True)\n",
        "\n",
        "acordos_aprovado=acordos_aprovado.reindex([\"Payment Agreement ID\", \"Service Request ID\", \"Status 2\", \"Payment Agreement Date\"], axis=1)\n",
        "\n",
        "acordos_aprovado.columns=[\"Payment Agreement ID\", \"Service Request ID\", \"Status\", \"Payment Agreement Date\"]\n",
        "\n",
        "print(acordos_aprovado.shape)\n",
        "\n",
        "acordos_aprovado.head()"
      ],
      "metadata": {
        "id": "QdpNdN-jA7ua"
      },
      "execution_count": null,
      "outputs": []
    },
    {
      "cell_type": "code",
      "source": [
        "#fazer upload do ficheiro de erro (SRs de acordos de pagamento que não existem em RI)\n",
        "from google.colab import files\n",
        "uploaded3 = files.upload()\n"
      ],
      "metadata": {
        "id": "A_aXe73tGiQw"
      },
      "execution_count": null,
      "outputs": []
    },
    {
      "cell_type": "code",
      "source": [
        "#ler ficheiro erro_acordos_pagamento\n",
        "erro_acordos_pagamento=pd.read_excel(erro_template_acordos_pagamento, sheet_name=0)"
      ],
      "metadata": {
        "id": "3Fig6-NZHuIT"
      },
      "execution_count": null,
      "outputs": []
    },
    {
      "cell_type": "code",
      "source": [
        "#visualizar ficheiro erro_acordos_pagamento\n",
        "erro_acordos_pagamento.iloc[:, :5].head()"
      ],
      "metadata": {
        "id": "79m5YDucSPla"
      },
      "execution_count": null,
      "outputs": []
    },
    {
      "cell_type": "code",
      "source": [
        "# formatar ficheiro erro_acordos_pagamento\n",
        "erro_acordos_pagamento=erro_acordos_pagamento.iloc[2:, :5]\n",
        "\n",
        "erro_acordos_pagamento.columns=[\"Payment Agreement ID\", \"Service Request ID\", \"Status\", \"Payment Agreement Date\", \"RI Info\"]\n",
        "\n",
        "erro_acordos_pagamento.iloc[:, -2]=erro_acordos_pagamento.iloc[:,-2].apply(lambda i: i.strftime(\"%Y/%m/%d\"))\n",
        "\n",
        "erro_acordos_pagamento.index=range(erro_acordos_pagamento.iloc[:, 0].count())\n",
        "\n",
        "print(erro_acordos_pagamento.shape)\n",
        "erro_acordos_pagamento.head()"
      ],
      "metadata": {
        "id": "y8Q9xgygIBQQ"
      },
      "execution_count": null,
      "outputs": []
    },
    {
      "cell_type": "code",
      "source": [
        "#eliminar linhas na dataframe \"acordos_aprovado\" cujas SRs não estão em RI (cruzar com info da dataframe \"erro_acordos_pagamento\")\n",
        "\n",
        "#criar colunas \"chave\" em \"acordos_aprovado\" e \"erro_acordos_pagamento\"\n",
        "\n",
        "acordos_aprovado[\"chave\"]=acordos_aprovado[\"Payment Agreement ID\"].astype(\"str\") + acordos_aprovado[\"Service Request ID\"].astype(\"str\")\n",
        "\n",
        "erro_acordos_pagamento[\"chave\"]=\\\n",
        "erro_acordos_pagamento[\"Payment Agreement ID\"].astype(\"str\") + erro_acordos_pagamento[\"Service Request ID\"].astype(\"str\")\n",
        "\n",
        "\n"
      ],
      "metadata": {
        "id": "3xmLqk4lLUTV"
      },
      "execution_count": null,
      "outputs": []
    },
    {
      "cell_type": "code",
      "source": [
        "#confirmar se todas as chaves de \"acordos_aprovado\" estão em \"erro_acordos_pagamento\"\n",
        "print(acordos_aprovado.loc[~acordos_aprovado[\"chave\"].isin(erro_acordos_pagamento[\"chave\"]), \"chave\"].count())"
      ],
      "metadata": {
        "id": "YHspxmddVgzT"
      },
      "execution_count": null,
      "outputs": []
    },
    {
      "cell_type": "code",
      "source": [
        "#eliminar linhas na dataframe \"acordos_aprovado\" cujas SRs não estão em RI (cruzar com info da dataframe \"erro_acordos_pagamento\")\n",
        "\n",
        "\n",
        "#quantas SRS não foram encontradas em RI:\n",
        "\n",
        "print(erro_acordos_pagamento.loc[erro_acordos_pagamento.iloc[:, -2].isna()==False,\"RI Info\"].count())\n",
        "\n",
        "#lista_erro inclui as linhas de SRs que não existem em RI\n",
        "lista_erro=erro_acordos_pagamento.loc[erro_acordos_pagamento.iloc[:, -2].isna()==False, \"chave\"].tolist()\n",
        "\n",
        "acordos_aprovado2=acordos_aprovado[~acordos_aprovado[\"chave\"].isin(lista_erro)]\n",
        "\n",
        "#apagar coluna \"chave\" em \"acordos_aprovado2\"\n",
        "\n",
        "acordos_aprovado2.drop(\"chave\", axis=1, inplace=True)\n",
        "\n",
        "print(acordos_aprovado2.shape)\n",
        "\n",
        "acordos_aprovado2.head()\n"
      ],
      "metadata": {
        "id": "cv_6tgZJWY9d"
      },
      "execution_count": null,
      "outputs": []
    },
    {
      "cell_type": "code",
      "source": [
        "#eliminar eventuais registos duplicados nas colunas \"Payment Agreement ID\", \"Service Request ID\", \"Status\", \"Payment Agreement Date\" - *TESTAR\n",
        "\n",
        "print(acordos_aprovado2.shape)\n",
        "\n",
        "acordos_aprovado2[\"quant\"]=acordos_aprovado2.apply(lambda i: \"\".join(i.values.astype(\"str\")), axis=1)\n",
        "\n",
        "if acordos_aprovado2[\"quant\"].duplicated().sum()>0:\n",
        "  indice=[]\n",
        "  indice=acordos_aprovado2[acordos_aprovado2[\"quant\"].duplicated()].index\n",
        "  acordos_aprovado2.drop(index=indice, inplace=True)\n",
        "\n",
        "#eliminar coluna \"quant\"\n",
        "acordos_aprovado2.drop(\"quant\", axis=1, inplace=True)\n",
        "\n",
        "\n",
        "print(acordos_aprovado2.shape)"
      ],
      "metadata": {
        "id": "NKXUndYeY3uP"
      },
      "execution_count": null,
      "outputs": []
    },
    {
      "cell_type": "code",
      "source": [
        "#formatar coluna com data type e ordenar tabela por \"Payment Agreement ID\" e \"Payment Agreement Date\"\n",
        "\n",
        "acordos_aprovado2[\"Payment Agreement Date\"]=acordos_aprovado2[\"Payment Agreement Date\"].apply(lambda i: datetime.strptime(i, \"%d/%m/%Y\").date())\n",
        "\n",
        "\n",
        "acordos_aprovado3=acordos_aprovado2.sort_values([\"Payment Agreement ID\", \"Payment Agreement Date\"], ascending=[True, False], ignore_index=True)"
      ],
      "metadata": {
        "id": "SBu_bhKY22yO"
      },
      "execution_count": null,
      "outputs": []
    },
    {
      "cell_type": "code",
      "source": [
        "#criar colunas \"contagem\" e \"índice\"\n",
        "\n",
        "\n",
        "def contagem (db, col):\n",
        "  #criar lista para coluna \"contagem\"\n",
        "  listaa=list(map(lambda i: db.loc[db[col]==i, col].count(), db[col].tolist()))\n",
        "  return listaa\n",
        "\n",
        "\n",
        "def indice (db, col):\n",
        "  indice=[]\n",
        "  for i in db.groupby(col) [col].count().tolist():\n",
        "    for j in range(1, i+1):\n",
        "      indice.append(j)\n",
        "  return indice\n",
        "\n",
        "acordos_aprovado3[\"contagem\"]=contagem(acordos_aprovado3, \"Payment Agreement ID\")\n",
        "\n",
        "acordos_aprovado3[\"indice\"]=indice(acordos_aprovado3, \"Payment Agreement ID\")\n",
        "\n",
        "\n"
      ],
      "metadata": {
        "id": "ID66YeaWc5ei"
      },
      "execution_count": null,
      "outputs": []
    },
    {
      "cell_type": "code",
      "source": [
        "#ver acordos_aprovado3\n",
        "\n",
        "print(acordos_aprovado3.shape)\n",
        "\n",
        "\n",
        "acordos_aprovado3.head()"
      ],
      "metadata": {
        "id": "lSjd2HVy0poS"
      },
      "execution_count": null,
      "outputs": []
    },
    {
      "cell_type": "code",
      "source": [
        "#filtrar linhas com índice igual a 1 e remover colunas \"contagem\" e \"índice\"\n",
        "\n",
        "acordos_aprovado4=acordos_aprovado3[acordos_aprovado3[\"indice\"]==1]\n",
        "acordos_aprovado4.drop([\"contagem\", \"indice\"], axis=1, inplace=True)\n",
        "print(acordos_aprovado4.shape)\n",
        "\n",
        "acordos_aprovado4.head()"
      ],
      "metadata": {
        "id": "snT2UDuw6bz7"
      },
      "execution_count": null,
      "outputs": []
    },
    {
      "cell_type": "code",
      "source": [
        "#ordenar \"acordos_aprovado4\" por \"Service Request ID\" (ordem ascendente)\n",
        "\n",
        "acordos_aprovado5=acordos_aprovado4.sort_values(by=[\"Service Request ID\", \"Payment Agreement Date\"], ascending=[True, False])\n",
        "\n",
        "acordos_aprovado5.head()"
      ],
      "metadata": {
        "id": "MTzNfM6U-EkD"
      },
      "execution_count": null,
      "outputs": []
    },
    {
      "cell_type": "code",
      "source": [
        "#criar coluna \"contagem\" e \"índice\" na tabela \"acordos_aprovado5\"\n",
        "\n",
        "acordos_aprovado5[\"contagem\"]=contagem(acordos_aprovado5, \"Service Request ID\")\n",
        "\n",
        "acordos_aprovado5[\"indice\"]=indice(acordos_aprovado5, \"Service Request ID\")\n",
        "print(acordos_aprovado5.shape)\n",
        "acordos_aprovado5.head()"
      ],
      "metadata": {
        "id": "z6h7WJdc_W6d"
      },
      "execution_count": null,
      "outputs": []
    },
    {
      "cell_type": "code",
      "source": [
        "#filtrar linhas com índice igual a 1\n",
        "\n",
        "acordos_aprovado6=acordos_aprovado5[acordos_aprovado5[\"indice\"]==1]\n",
        "print(acordos_aprovado6.shape)"
      ],
      "metadata": {
        "id": "ksfqvb3IUXQz"
      },
      "execution_count": null,
      "outputs": []
    },
    {
      "cell_type": "code",
      "source": [
        "#recolocar coluna \"Payment Agreement Date\" como texto\n",
        "acordos_aprovado6[\"Payment Agreement Date\"]=acordos_aprovado5[\"Payment Agreement Date\"].apply(lambda i: i.strftime(\"%d/%m/%Y\"))\n",
        "\n",
        "acordos_aprovado6.head()"
      ],
      "metadata": {
        "id": "BNUF3MCxAfdd"
      },
      "execution_count": null,
      "outputs": []
    },
    {
      "cell_type": "code",
      "source": [
        "#exportar tabela \"acordos_aprovado5\" e fazer download\n",
        "\n",
        "acordos_aprovado6.to_excel(\"acordos de pagamento.xlsx\", index=False)\n",
        "\n",
        "files.download(\"acordos de pagamento.xlsx\")"
      ],
      "metadata": {
        "id": "cexYDEY-Buz5"
      },
      "execution_count": null,
      "outputs": []
    }
  ]
}