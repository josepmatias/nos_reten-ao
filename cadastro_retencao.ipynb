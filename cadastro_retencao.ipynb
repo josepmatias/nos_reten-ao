{
  "nbformat": 4,
  "nbformat_minor": 0,
  "metadata": {
    "colab": {
      "provenance": [],
      "authorship_tag": "ABX9TyP4jVuexNNiSY/wzK7BA4pK",
      "include_colab_link": true
    },
    "kernelspec": {
      "name": "python3",
      "display_name": "Python 3"
    },
    "language_info": {
      "name": "python"
    }
  },
  "cells": [
    {
      "cell_type": "markdown",
      "metadata": {
        "id": "view-in-github",
        "colab_type": "text"
      },
      "source": [
        "<a href=\"https://colab.research.google.com/github/josepmatias/nos_reten-ao/blob/main/cadastro_retencao.ipynb\" target=\"_parent\"><img src=\"https://colab.research.google.com/assets/colab-badge.svg\" alt=\"Open In Colab\"/></a>"
      ]
    },
    {
      "cell_type": "code",
      "execution_count": null,
      "metadata": {
        "id": "w4eifVOb-Wpn"
      },
      "outputs": [],
      "source": [
        "#importar módulos\n",
        "import pandas as pd"
      ]
    },
    {
      "cell_type": "code",
      "source": [
        "!pip install pyxlsb"
      ],
      "metadata": {
        "id": "wJDYSBBa_2f1"
      },
      "execution_count": null,
      "outputs": []
    },
    {
      "cell_type": "code",
      "source": [
        "#designar nomes de ficheiros e designar o mês\n",
        "cadastro_nome=\"Cadastro_EADW.xlsb\"\n",
        "agentes_nome=\"AGENTES_TODOS_ENTIDADE_GESTORA_KC13219_29.04.xlsx\"\n",
        "cav_sfid_nome=\"SFIDsvsCAVs_20240506124348.xlsb\"\n",
        "\n",
        "mes=\"202404\""
      ],
      "metadata": {
        "id": "ECk-xhXI-bbi"
      },
      "execution_count": null,
      "outputs": []
    },
    {
      "cell_type": "code",
      "source": [
        "#fazer upload dos ficheiros\n",
        "from google.colab import files\n",
        "uploaded = files.upload()\n",
        "uploaded2=files.upload()\n",
        "uploaded3=files.upload()"
      ],
      "metadata": {
        "id": "F6yoXk3_-7b0"
      },
      "execution_count": null,
      "outputs": []
    },
    {
      "cell_type": "code",
      "source": [
        "#importar cadastro\n",
        "cadastro=pd.read_excel(cadastro_nome, sheet_name=0)\n",
        "cadastro2=cadastro.copy()\n",
        "cadastro2.columns=cadastro.iloc[0, :]\n",
        "cadastro2.columns"
      ],
      "metadata": {
        "id": "EhFuVi_1_vsg"
      },
      "execution_count": null,
      "outputs": []
    },
    {
      "cell_type": "code",
      "source": [
        "#importar ficheiro \"agentes todos entidade gestora\" do mês\n",
        "\n",
        "agentes=pd.read_excel(agentes_nome, sheet_name=0)"
      ],
      "metadata": {
        "id": "sS4UJtQ5Fatm"
      },
      "execution_count": null,
      "outputs": []
    },
    {
      "cell_type": "code",
      "source": [
        "agentes.columns"
      ],
      "metadata": {
        "id": "xMSkisssF10s"
      },
      "execution_count": null,
      "outputs": []
    },
    {
      "cell_type": "code",
      "source": [
        "#importar ficheiro sidsvscavs\n",
        "sfids_cavs=pd.read_excel(cav_sfid_nome, sheet_name=0)"
      ],
      "metadata": {
        "id": "JKSLCjybUIRH"
      },
      "execution_count": null,
      "outputs": []
    },
    {
      "cell_type": "code",
      "source": [
        "#formatar colunas na dataframe sfids_cavs\n",
        "\n",
        "sfids_cavs.columns=[i.strip() for i in sfids_cavs.columns]"
      ],
      "metadata": {
        "id": "Mi__Eb8PUZkd"
      },
      "execution_count": null,
      "outputs": []
    },
    {
      "cell_type": "code",
      "source": [
        "#filtrar dataframe para os dados do mês n\n",
        "\n",
        "cadastro_mes=cadastro2[cadastro2.iloc[:, 0]==mes]\n"
      ],
      "metadata": {
        "id": "W4SbEwNODLUB"
      },
      "execution_count": null,
      "outputs": []
    },
    {
      "cell_type": "code",
      "source": [
        "#criação colunas inbound e outbound - chaves representam colunas a criar, valores representam colunas no ficheiro entidade agente\n",
        "\n",
        "def conversao (dici, str, df=cadastro_mes, df2=agentes):\n",
        "  for i, j in dici.items():\n",
        "    for cav in df[\"CAV \" + str].unique().tolist():\n",
        "      indice=df.loc[df[\"CAV \" + str]==cav, :].index\n",
        "      var=df2.loc[df2.iloc[:, 0]==cav, j].unique().tolist()[0]\n",
        "      df.loc[indice, i]=var\n",
        "\n",
        "  return df\n",
        "\n",
        "#dicionario inb\n",
        "dici_inb={\"Delegação IN_EntidadeGestora\":\"ID Delegação do Agente\", \"Entidade (EG)\": \"ID Entidade do Agente\",  \"Tipo do Agente\": \"Tipo do Agente\", \"Rede (EG)- Inbound\": \"Rede do Agente\",\\\n",
        "\"Estado cav inbound\": \"Situação do Agente\"}\n",
        "\n",
        "conversao(dici_inb, \"INBOUND\")\n",
        "\n",
        "#dicionario out\n",
        "\n",
        "dici_out={\"Delegação OUT_EntidadeGestora\":\"ID Delegação do Agente\", \"Rede (EG)- Outbound\":\"Rede do Agente\", \"Estado Cav Outbound\": \"Situação do Agente\"}\n",
        "\n",
        "\n",
        "conversao(dici_out, \"OUTBOUND\")\n"
      ],
      "metadata": {
        "id": "JU3pt9pkKX5k"
      },
      "execution_count": null,
      "outputs": []
    },
    {
      "cell_type": "code",
      "source": [
        "#criar colunas \"CHAVE INB\" e \"CHAVE OUT\" na dataframe cadastro_mes\n",
        "\n",
        "for i, j, k in zip([\"CAV INBOUND\", \"CAV OUTBOUND\"], [\"Delegação IN_EntidadeGestora\", \"Delegação OUT_EntidadeGestora\"], [\"COD ENTIDADE\", \"COD ENTIDADE\"]):\n",
        "  if i.find(\"OUTBOUND\")!=-1:\n",
        "    cadastro_mes[\"CHAVE OUT\"]=cadastro_mes[i] + cadastro_mes[j] + cadastro_mes[k]\n",
        "  else:\n",
        "    cadastro_mes[\"CHAVE INB\"]=cadastro_mes[i] + cadastro_mes[j] + cadastro_mes[k]\n",
        "\n",
        "\n"
      ],
      "metadata": {
        "id": "uvkdxK5sWqX5"
      },
      "execution_count": null,
      "outputs": []
    },
    {
      "cell_type": "code",
      "source": [
        "#chave entidade, delegação, cav\n",
        "sfids_cavs[\"Chave (del_ent_cav)\"]=sfids_cavs[\"CAV Entity\"].astype(\"str\") + sfids_cavs[\"CAV Delegation\"].astype(\"str\") + sfids_cavs[\"CAV\"].astype(\"str\")\n",
        "\n",
        "#chave cav, delegação, entidade\n",
        "\n",
        "sfids_cavs[\"Chave (cav_ent_del)\"]=sfids_cavs[\"CAV\"].astype(\"str\") + sfids_cavs[\"CAV Delegation\"].astype(\"str\") + sfids_cavs[\"CAV Entity\"].astype(\"str\")"
      ],
      "metadata": {
        "id": "7ieN3HY3asKn"
      },
      "execution_count": null,
      "outputs": []
    },
    {
      "cell_type": "code",
      "source": [
        "sfids_cavs.columns"
      ],
      "metadata": {
        "id": "xc0x6R-6o-fI"
      },
      "execution_count": null,
      "outputs": []
    },
    {
      "cell_type": "code",
      "source": [
        "#construir coluna \"sfid_in\" e \"sfid_out\"\n",
        "\n",
        "for i, j in zip([\"SFID IN\", \"SFID OUT\"], [\"CHAVE INB\", \"CHAVE OUT\"]):\n",
        "  print(f\"{i} -> {j}\")\n",
        "  chaves=cadastro_mes[j].unique().tolist()\n",
        "  for chave in chaves:\n",
        "    indice=cadastro_mes.loc[cadastro_mes[j]==chave, :].index\n",
        "    try:\n",
        "      sfid=sfids_cavs.loc[sfids_cavs[\"Chave (cav_ent_del)\"]==chave, \"Dealer SFID\"].tolist() [0]\n",
        "      cadastro_mes.loc[indice, i]=sfid\n",
        "    except:\n",
        "      cadastro_mes.loc[indice, i]=\"#N/A\"\n",
        "\n",
        "\n",
        "\n"
      ],
      "metadata": {
        "id": "3Z3Tn8kArPJQ"
      },
      "execution_count": null,
      "outputs": []
    },
    {
      "cell_type": "code",
      "source": [
        "#criar colunas \"delegação t/f\" e \"entidade t/f\"\n",
        "\n",
        "#def deleg (df, col1, col2):\n",
        "\n",
        "cadastro_mes[\"Delegação t/f\"]=cadastro_mes['Delegação IN_EntidadeGestora']==cadastro_mes['Delegação OUT_EntidadeGestora']\n",
        "\n",
        "\n",
        "cadastro[\"Entidade t/f\"]=cadastro_mes[\"COD ENTIDADE\"]==cadastro_mes[\"Entidade (EG)\"]\n"
      ],
      "metadata": {
        "id": "UFZUOdSwz_zz"
      },
      "execution_count": null,
      "outputs": []
    },
    {
      "cell_type": "code",
      "source": [
        "cadastro_mes[['Delegação IN_EntidadeGestora', 'Delegação OUT_EntidadeGestora']].head()"
      ],
      "metadata": {
        "id": "I6T7iCQJ5oKB"
      },
      "execution_count": null,
      "outputs": []
    },
    {
      "cell_type": "code",
      "source": [
        "cadastro_mes.columns"
      ],
      "metadata": {
        "id": "Pm3hXufL6vLV"
      },
      "execution_count": null,
      "outputs": []
    }
  ]
}