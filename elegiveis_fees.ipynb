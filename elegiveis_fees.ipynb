{
  "nbformat": 4,
  "nbformat_minor": 0,
  "metadata": {
    "colab": {
      "provenance": [],
      "authorship_tag": "ABX9TyP0cPfU9dYvdppbKri0iYGQ",
      "include_colab_link": true
    },
    "kernelspec": {
      "name": "python3",
      "display_name": "Python 3"
    },
    "language_info": {
      "name": "python"
    }
  },
  "cells": [
    {
      "cell_type": "markdown",
      "metadata": {
        "id": "view-in-github",
        "colab_type": "text"
      },
      "source": [
        "<a href=\"https://colab.research.google.com/github/josepmatias/nos_reten-ao/blob/main/elegiveis_fees.ipynb\" target=\"_parent\"><img src=\"https://colab.research.google.com/assets/colab-badge.svg\" alt=\"Open In Colab\"/></a>"
      ]
    },
    {
      "cell_type": "code",
      "execution_count": 1,
      "metadata": {
        "id": "e28t7Vy6wKYx"
      },
      "outputs": [],
      "source": [
        "#importar módulos\n",
        "import pandas as pd"
      ]
    },
    {
      "cell_type": "code",
      "source": [
        "!pip install pyxlsb"
      ],
      "metadata": {
        "colab": {
          "base_uri": "https://localhost:8080/"
        },
        "id": "QAEq4Zzp-PRa",
        "outputId": "9b82370a-a264-4820-ddad-79ffea693007"
      },
      "execution_count": 10,
      "outputs": [
        {
          "output_type": "stream",
          "name": "stdout",
          "text": [
            "Collecting pyxlsb\n",
            "  Downloading pyxlsb-1.0.10-py2.py3-none-any.whl (23 kB)\n",
            "Installing collected packages: pyxlsb\n",
            "Successfully installed pyxlsb-1.0.10\n"
          ]
        }
      ]
    },
    {
      "cell_type": "code",
      "source": [
        "#importar ficheiros\n",
        "\n",
        "apoio_base_nome=\"Apoio_Base_Reativa.xlsb\"\n",
        "auto_cb_nome=\"cv12_RRRCycleDetail_20240523150203.xlsb\"\n"
      ],
      "metadata": {
        "id": "B_leDQpl7a0z"
      },
      "execution_count": 32,
      "outputs": []
    },
    {
      "cell_type": "code",
      "source": [
        "#importar apoio_base_proactiva e versão cb do auto\n",
        "from google.colab import files\n",
        "uploaded = files.upload()\n",
        "#uploaded2=files.upload()"
      ],
      "metadata": {
        "colab": {
          "base_uri": "https://localhost:8080/",
          "height": 72
        },
        "id": "7uaO6LpY7706",
        "outputId": "8a41fa74-0584-4923-cb5a-f230d97595b9"
      },
      "execution_count": 35,
      "outputs": [
        {
          "output_type": "display_data",
          "data": {
            "text/plain": [
              "<IPython.core.display.HTML object>"
            ],
            "text/html": [
              "\n",
              "     <input type=\"file\" id=\"files-cbd44a1d-2920-46f6-8dd9-86c725e954f4\" name=\"files[]\" multiple disabled\n",
              "        style=\"border:none\" />\n",
              "     <output id=\"result-cbd44a1d-2920-46f6-8dd9-86c725e954f4\">\n",
              "      Upload widget is only available when the cell has been executed in the\n",
              "      current browser session. Please rerun this cell to enable.\n",
              "      </output>\n",
              "      <script>// Copyright 2017 Google LLC\n",
              "//\n",
              "// Licensed under the Apache License, Version 2.0 (the \"License\");\n",
              "// you may not use this file except in compliance with the License.\n",
              "// You may obtain a copy of the License at\n",
              "//\n",
              "//      http://www.apache.org/licenses/LICENSE-2.0\n",
              "//\n",
              "// Unless required by applicable law or agreed to in writing, software\n",
              "// distributed under the License is distributed on an \"AS IS\" BASIS,\n",
              "// WITHOUT WARRANTIES OR CONDITIONS OF ANY KIND, either express or implied.\n",
              "// See the License for the specific language governing permissions and\n",
              "// limitations under the License.\n",
              "\n",
              "/**\n",
              " * @fileoverview Helpers for google.colab Python module.\n",
              " */\n",
              "(function(scope) {\n",
              "function span(text, styleAttributes = {}) {\n",
              "  const element = document.createElement('span');\n",
              "  element.textContent = text;\n",
              "  for (const key of Object.keys(styleAttributes)) {\n",
              "    element.style[key] = styleAttributes[key];\n",
              "  }\n",
              "  return element;\n",
              "}\n",
              "\n",
              "// Max number of bytes which will be uploaded at a time.\n",
              "const MAX_PAYLOAD_SIZE = 100 * 1024;\n",
              "\n",
              "function _uploadFiles(inputId, outputId) {\n",
              "  const steps = uploadFilesStep(inputId, outputId);\n",
              "  const outputElement = document.getElementById(outputId);\n",
              "  // Cache steps on the outputElement to make it available for the next call\n",
              "  // to uploadFilesContinue from Python.\n",
              "  outputElement.steps = steps;\n",
              "\n",
              "  return _uploadFilesContinue(outputId);\n",
              "}\n",
              "\n",
              "// This is roughly an async generator (not supported in the browser yet),\n",
              "// where there are multiple asynchronous steps and the Python side is going\n",
              "// to poll for completion of each step.\n",
              "// This uses a Promise to block the python side on completion of each step,\n",
              "// then passes the result of the previous step as the input to the next step.\n",
              "function _uploadFilesContinue(outputId) {\n",
              "  const outputElement = document.getElementById(outputId);\n",
              "  const steps = outputElement.steps;\n",
              "\n",
              "  const next = steps.next(outputElement.lastPromiseValue);\n",
              "  return Promise.resolve(next.value.promise).then((value) => {\n",
              "    // Cache the last promise value to make it available to the next\n",
              "    // step of the generator.\n",
              "    outputElement.lastPromiseValue = value;\n",
              "    return next.value.response;\n",
              "  });\n",
              "}\n",
              "\n",
              "/**\n",
              " * Generator function which is called between each async step of the upload\n",
              " * process.\n",
              " * @param {string} inputId Element ID of the input file picker element.\n",
              " * @param {string} outputId Element ID of the output display.\n",
              " * @return {!Iterable<!Object>} Iterable of next steps.\n",
              " */\n",
              "function* uploadFilesStep(inputId, outputId) {\n",
              "  const inputElement = document.getElementById(inputId);\n",
              "  inputElement.disabled = false;\n",
              "\n",
              "  const outputElement = document.getElementById(outputId);\n",
              "  outputElement.innerHTML = '';\n",
              "\n",
              "  const pickedPromise = new Promise((resolve) => {\n",
              "    inputElement.addEventListener('change', (e) => {\n",
              "      resolve(e.target.files);\n",
              "    });\n",
              "  });\n",
              "\n",
              "  const cancel = document.createElement('button');\n",
              "  inputElement.parentElement.appendChild(cancel);\n",
              "  cancel.textContent = 'Cancel upload';\n",
              "  const cancelPromise = new Promise((resolve) => {\n",
              "    cancel.onclick = () => {\n",
              "      resolve(null);\n",
              "    };\n",
              "  });\n",
              "\n",
              "  // Wait for the user to pick the files.\n",
              "  const files = yield {\n",
              "    promise: Promise.race([pickedPromise, cancelPromise]),\n",
              "    response: {\n",
              "      action: 'starting',\n",
              "    }\n",
              "  };\n",
              "\n",
              "  cancel.remove();\n",
              "\n",
              "  // Disable the input element since further picks are not allowed.\n",
              "  inputElement.disabled = true;\n",
              "\n",
              "  if (!files) {\n",
              "    return {\n",
              "      response: {\n",
              "        action: 'complete',\n",
              "      }\n",
              "    };\n",
              "  }\n",
              "\n",
              "  for (const file of files) {\n",
              "    const li = document.createElement('li');\n",
              "    li.append(span(file.name, {fontWeight: 'bold'}));\n",
              "    li.append(span(\n",
              "        `(${file.type || 'n/a'}) - ${file.size} bytes, ` +\n",
              "        `last modified: ${\n",
              "            file.lastModifiedDate ? file.lastModifiedDate.toLocaleDateString() :\n",
              "                                    'n/a'} - `));\n",
              "    const percent = span('0% done');\n",
              "    li.appendChild(percent);\n",
              "\n",
              "    outputElement.appendChild(li);\n",
              "\n",
              "    const fileDataPromise = new Promise((resolve) => {\n",
              "      const reader = new FileReader();\n",
              "      reader.onload = (e) => {\n",
              "        resolve(e.target.result);\n",
              "      };\n",
              "      reader.readAsArrayBuffer(file);\n",
              "    });\n",
              "    // Wait for the data to be ready.\n",
              "    let fileData = yield {\n",
              "      promise: fileDataPromise,\n",
              "      response: {\n",
              "        action: 'continue',\n",
              "      }\n",
              "    };\n",
              "\n",
              "    // Use a chunked sending to avoid message size limits. See b/62115660.\n",
              "    let position = 0;\n",
              "    do {\n",
              "      const length = Math.min(fileData.byteLength - position, MAX_PAYLOAD_SIZE);\n",
              "      const chunk = new Uint8Array(fileData, position, length);\n",
              "      position += length;\n",
              "\n",
              "      const base64 = btoa(String.fromCharCode.apply(null, chunk));\n",
              "      yield {\n",
              "        response: {\n",
              "          action: 'append',\n",
              "          file: file.name,\n",
              "          data: base64,\n",
              "        },\n",
              "      };\n",
              "\n",
              "      let percentDone = fileData.byteLength === 0 ?\n",
              "          100 :\n",
              "          Math.round((position / fileData.byteLength) * 100);\n",
              "      percent.textContent = `${percentDone}% done`;\n",
              "\n",
              "    } while (position < fileData.byteLength);\n",
              "  }\n",
              "\n",
              "  // All done.\n",
              "  yield {\n",
              "    response: {\n",
              "      action: 'complete',\n",
              "    }\n",
              "  };\n",
              "}\n",
              "\n",
              "scope.google = scope.google || {};\n",
              "scope.google.colab = scope.google.colab || {};\n",
              "scope.google.colab._files = {\n",
              "  _uploadFiles,\n",
              "  _uploadFilesContinue,\n",
              "};\n",
              "})(self);\n",
              "</script> "
            ]
          },
          "metadata": {}
        },
        {
          "output_type": "stream",
          "name": "stdout",
          "text": [
            "Saving Apoio_Base_Reativa.xlsb to Apoio_Base_Reativa.xlsb\n"
          ]
        }
      ]
    },
    {
      "cell_type": "code",
      "source": [
        "# filtrar eventos de chargeback service requests\n",
        "auto=pd.read_excel(auto_cb_nome, sheet_name=0)\n"
      ],
      "metadata": {
        "id": "y0PZwL1H98H4"
      },
      "execution_count": 11,
      "outputs": []
    },
    {
      "cell_type": "code",
      "source": [
        "#lear ficheiro apoio_base\n",
        "apoio=pd.read_excel(apoio_base_nome, sheet_name=0)"
      ],
      "metadata": {
        "id": "_bxcnfZeAVxn"
      },
      "execution_count": 36,
      "outputs": []
    },
    {
      "cell_type": "code",
      "source": [
        "#identificar as sr's que tiveram chargeback no mês n-3\n",
        "\n",
        "SR=auto.loc[(auto[\"Event Type Name\"]==\"CHARGEBACK DE SERVICE REQUEST\") & (auto[\"Original Event Type Name\"]==\"SERVICE REQUEST\"), \"Sr Id\"].unique().tolist()"
      ],
      "metadata": {
        "id": "VYKeMqEy-3mp"
      },
      "execution_count": 24,
      "outputs": []
    },
    {
      "cell_type": "code",
      "source": [
        "#Actualização da coluna elegível: tudo o que não é encontrado na lista SR será \"elegível\" (não teve cb no mês n-3)\n",
        "for i, j in zip(apoio.loc[apoio[\"RRR Service Request ID\"].isin(SR), :].index, apoio.loc[apoio[\"RRR Service Request ID\"].isin(SR), \"RRR Service Request ID\"]):\n",
        "  apoio[i,\"elegivel\"]=\"N\"\n",
        "\n",
        "\n",
        "for i, j in zip(apoio.loc[~apoio[\"RRR Service Request ID\"].isin(SR), :].index, apoio.loc[apoio[\"RRR Service Request ID\"].isin(SR), \"RRR Service Request ID\"]):\n",
        "  apoio[i,\"elegivel\"]=\"S\"\n"
      ],
      "metadata": {
        "colab": {
          "base_uri": "https://localhost:8080/",
          "height": 168
        },
        "id": "sxJPec1z_zem",
        "outputId": "59daaf60-8c30-4059-d187-2b44a8c74568"
      },
      "execution_count": 42,
      "outputs": [
        {
          "output_type": "execute_result",
          "data": {
            "text/plain": [
              "Empty DataFrame\n",
              "Columns: [RRR Cycle ID, RRR Cycle Name, RRR Incentive Type ID, RRR Incentive Type Name, RRR Scheme Name, RRR Channel IN, RRR Commissioned SFID, RRR Commissioned SFID Name, RRR Event SFID, RRR Retention UserName, RRR Association Type Name, RRR Supervisor UserName, RRR Service Request ID, RRR Purchase Order, RRR Purchase Order Item, RRR Contract ID, RRR Tax ID, RRR Customer Segment Name, RRR Customer Segment Group Name, RRR Customer Type, RRR Billing Account, RRR MSISDN, RRR Sub Campaign Name, RRR Campaign Name, RRR Customer Profile Name, RRR Resolution Reason Name, RRR Area Name, RRR Sub Area Name, RRR Type Name, RRR Convergent IN, RRR Convergent OUT, RRR ARPU IN, RRR ARPU OUT, RRR ARPU Variation, RRR Loyalty Period Renewed, RRR PRE SR Loyalty End Date, RRR POS SR Loyalty End Date, RRR Loyalty Period Residual, RRR Status Reason Name, RRR CM Group Name, RRR CM Campaign Name, RRR CM Order Reason Name, RRR Cell Name, RRR New Service ID, RRR New Service ID EXT, RRR New Service Name, RRR Service Group Name, RRR Bundle Name, RRR Bundle Group Name, RRR Product ID, RRR Product Name, RRR Product ID EXT, RRR Product Group Name, RRR SAP Order ID, RRR Expedition Date, RRR Real Activation, RRR GCO Productivity, RRR GCO Quality, RRR GCO, RRR Retention Rate, RRR Renegotiation Rate, RRR Customer Profile Rate, RRR GCO Retention Rate, RRR GCO Renegotiation Rate, RRR GCO Decision Makers Rate, RRR Weight, RRR Chargeback Reason, RRR Chargeback Period, RRR Original Incentive Type Name, RRR Job Type Name, RRR Event ID, RRR Event Date, RRR Event Type ID, RRR Event Order, RRR Event Type Name, RRR Description, RRR Points, RRR SR Treatment Points, RRR SR Convergent Points, RRR SR Renewal LP Points, RRR Value, RRR Grade Type Name, RRR Revolving Reason, RRR Business Type Name, RRR Business Scope Name, RRR Business Name, RRR Mobile Segment Name, RRR Unit Type Name, RRR Non Compliance Level, RRR Non Compliance Quantity, RRR Ranking Type Name, RRR Ranking Position, RRR Justified Absences, RRR Unjustified Absences, RRR Invoice Payment Days, RRR Chargeback Rate, RRR Original Event Type Name, RRR SR Chargeback NR Points, RRR Value Pre WithHolding, RRR Original Value, ...]\n",
              "Index: []\n",
              "\n",
              "[0 rows x 103 columns]"
            ],
            "text/html": [
              "\n",
              "  <div id=\"df-229b025f-cc0f-4eb4-b15e-e691e3f2ea07\" class=\"colab-df-container\">\n",
              "    <div>\n",
              "<style scoped>\n",
              "    .dataframe tbody tr th:only-of-type {\n",
              "        vertical-align: middle;\n",
              "    }\n",
              "\n",
              "    .dataframe tbody tr th {\n",
              "        vertical-align: top;\n",
              "    }\n",
              "\n",
              "    .dataframe thead th {\n",
              "        text-align: right;\n",
              "    }\n",
              "</style>\n",
              "<table border=\"1\" class=\"dataframe\">\n",
              "  <thead>\n",
              "    <tr style=\"text-align: right;\">\n",
              "      <th></th>\n",
              "      <th>RRR Cycle ID</th>\n",
              "      <th>RRR Cycle Name</th>\n",
              "      <th>RRR Incentive Type ID</th>\n",
              "      <th>RRR Incentive Type Name</th>\n",
              "      <th>RRR Scheme Name</th>\n",
              "      <th>RRR Channel IN</th>\n",
              "      <th>RRR Commissioned SFID</th>\n",
              "      <th>RRR Commissioned SFID Name</th>\n",
              "      <th>RRR Event SFID</th>\n",
              "      <th>RRR Retention UserName</th>\n",
              "      <th>...</th>\n",
              "      <th>RRR Unjustified Absences</th>\n",
              "      <th>RRR Invoice Payment Days</th>\n",
              "      <th>RRR Chargeback Rate</th>\n",
              "      <th>RRR Original Event Type Name</th>\n",
              "      <th>RRR SR Chargeback NR Points</th>\n",
              "      <th>RRR Value Pre WithHolding</th>\n",
              "      <th>RRR Original Value</th>\n",
              "      <th>Parceiro</th>\n",
              "      <th>Elegivel</th>\n",
              "      <th>Valor Zero</th>\n",
              "    </tr>\n",
              "  </thead>\n",
              "  <tbody>\n",
              "  </tbody>\n",
              "</table>\n",
              "<p>0 rows × 103 columns</p>\n",
              "</div>\n",
              "    <div class=\"colab-df-buttons\">\n",
              "\n",
              "  <div class=\"colab-df-container\">\n",
              "    <button class=\"colab-df-convert\" onclick=\"convertToInteractive('df-229b025f-cc0f-4eb4-b15e-e691e3f2ea07')\"\n",
              "            title=\"Convert this dataframe to an interactive table.\"\n",
              "            style=\"display:none;\">\n",
              "\n",
              "  <svg xmlns=\"http://www.w3.org/2000/svg\" height=\"24px\" viewBox=\"0 -960 960 960\">\n",
              "    <path d=\"M120-120v-720h720v720H120Zm60-500h600v-160H180v160Zm220 220h160v-160H400v160Zm0 220h160v-160H400v160ZM180-400h160v-160H180v160Zm440 0h160v-160H620v160ZM180-180h160v-160H180v160Zm440 0h160v-160H620v160Z\"/>\n",
              "  </svg>\n",
              "    </button>\n",
              "\n",
              "  <style>\n",
              "    .colab-df-container {\n",
              "      display:flex;\n",
              "      gap: 12px;\n",
              "    }\n",
              "\n",
              "    .colab-df-convert {\n",
              "      background-color: #E8F0FE;\n",
              "      border: none;\n",
              "      border-radius: 50%;\n",
              "      cursor: pointer;\n",
              "      display: none;\n",
              "      fill: #1967D2;\n",
              "      height: 32px;\n",
              "      padding: 0 0 0 0;\n",
              "      width: 32px;\n",
              "    }\n",
              "\n",
              "    .colab-df-convert:hover {\n",
              "      background-color: #E2EBFA;\n",
              "      box-shadow: 0px 1px 2px rgba(60, 64, 67, 0.3), 0px 1px 3px 1px rgba(60, 64, 67, 0.15);\n",
              "      fill: #174EA6;\n",
              "    }\n",
              "\n",
              "    .colab-df-buttons div {\n",
              "      margin-bottom: 4px;\n",
              "    }\n",
              "\n",
              "    [theme=dark] .colab-df-convert {\n",
              "      background-color: #3B4455;\n",
              "      fill: #D2E3FC;\n",
              "    }\n",
              "\n",
              "    [theme=dark] .colab-df-convert:hover {\n",
              "      background-color: #434B5C;\n",
              "      box-shadow: 0px 1px 3px 1px rgba(0, 0, 0, 0.15);\n",
              "      filter: drop-shadow(0px 1px 2px rgba(0, 0, 0, 0.3));\n",
              "      fill: #FFFFFF;\n",
              "    }\n",
              "  </style>\n",
              "\n",
              "    <script>\n",
              "      const buttonEl =\n",
              "        document.querySelector('#df-229b025f-cc0f-4eb4-b15e-e691e3f2ea07 button.colab-df-convert');\n",
              "      buttonEl.style.display =\n",
              "        google.colab.kernel.accessAllowed ? 'block' : 'none';\n",
              "\n",
              "      async function convertToInteractive(key) {\n",
              "        const element = document.querySelector('#df-229b025f-cc0f-4eb4-b15e-e691e3f2ea07');\n",
              "        const dataTable =\n",
              "          await google.colab.kernel.invokeFunction('convertToInteractive',\n",
              "                                                    [key], {});\n",
              "        if (!dataTable) return;\n",
              "\n",
              "        const docLinkHtml = 'Like what you see? Visit the ' +\n",
              "          '<a target=\"_blank\" href=https://colab.research.google.com/notebooks/data_table.ipynb>data table notebook</a>'\n",
              "          + ' to learn more about interactive tables.';\n",
              "        element.innerHTML = '';\n",
              "        dataTable['output_type'] = 'display_data';\n",
              "        await google.colab.output.renderOutput(dataTable, element);\n",
              "        const docLink = document.createElement('div');\n",
              "        docLink.innerHTML = docLinkHtml;\n",
              "        element.appendChild(docLink);\n",
              "      }\n",
              "    </script>\n",
              "  </div>\n",
              "\n",
              "    </div>\n",
              "  </div>\n"
            ],
            "application/vnd.google.colaboratory.intrinsic+json": {
              "type": "dataframe"
            }
          },
          "metadata": {},
          "execution_count": 42
        }
      ]
    }
  ]
}